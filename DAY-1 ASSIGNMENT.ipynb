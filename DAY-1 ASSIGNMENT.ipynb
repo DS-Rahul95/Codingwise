{
 "cells": [
  {
   "cell_type": "code",
   "execution_count": 1,
   "id": "653de30d",
   "metadata": {},
   "outputs": [
    {
     "name": "stdout",
     "output_type": "stream",
     "text": [
      "8/5/2023\n"
     ]
    }
   ],
   "source": [
    "print(8, 5, 2023, sep='/')"
   ]
  },
  {
   "cell_type": "code",
   "execution_count": 4,
   "id": "5b0850c0",
   "metadata": {},
   "outputs": [
    {
     "name": "stdout",
     "output_type": "stream",
     "text": [
      "100\n"
     ]
    }
   ],
   "source": [
    "_my_string=100\n",
    "print(_my_string)"
   ]
  },
  {
   "cell_type": "code",
   "execution_count": 7,
   "id": "65a2b14d",
   "metadata": {},
   "outputs": [
    {
     "name": "stdout",
     "output_type": "stream",
     "text": [
      "<class 'float'>\n"
     ]
    }
   ],
   "source": [
    "x = 3.5\n",
    "print(type(x))"
   ]
  },
  {
   "cell_type": "markdown",
   "id": "4cf04aab",
   "metadata": {},
   "source": [
    "#### Multiple Choice Questions\n",
    "\n",
    "Q1. What output does the following code snippet produce?\n",
    "\n",
    "print(8, 5, 2023, sep='/')\n",
    "\n",
    "Ans: b) 8/5/2023\n",
    "\n",
    "\n",
    "Q2. Which of the following is considered a valid variable name in Python?\n",
    "\n",
    "Ans: b) _my_string\n",
    "\n",
    "\n",
    "Q3. After executing x = 3.5, what data type is x?\n",
    "\n",
    "c) float\n"
   ]
  },
  {
   "cell_type": "markdown",
   "id": "5d43242d",
   "metadata": {},
   "source": [
    "#### Fill-in-the-Blanks.\n",
    "\n",
    "Q4. In Python, the ______ function is utilised to convert a floating-point number to an integer.\n",
    "\n",
    "Ans: Int\n",
    "\n",
    "Q5. The ______ parameter in the print() function dictates what is printed at the end of the output.\n",
    "\n",
    "Ans: End\n",
    "\n",
    "Q6. A ______ type in Python can hold one of two values: True or False.\n",
    "\n",
    "Ans: Boolean"
   ]
  },
  {
   "cell_type": "markdown",
   "id": "5d03a041",
   "metadata": {},
   "source": [
    "#### True or False\n",
    "Q7. Variable names in Python are case-sensitive.\n",
    "\n",
    "Ans: True\n",
    "\n",
    "Q8. The print() function is limited to printing strings exclusively.\n",
    "\n",
    "Ans: False\n",
    "\n",
    "Q9. In Python, the string \"100\" is equivalent to the integer 100.\n",
    "\n",
    "Ans: False"
   ]
  },
  {
   "cell_type": "markdown",
   "id": "4c4346f0",
   "metadata": {},
   "source": [
    "#### Q10. Develop a Python script to calculate the area of a rectangle. Your program should take the rectangle's length and width, and then display the calculated area."
   ]
  },
  {
   "cell_type": "code",
   "execution_count": 27,
   "id": "6f929456",
   "metadata": {},
   "outputs": [
    {
     "name": "stdout",
     "output_type": "stream",
     "text": [
      "8000\n"
     ]
    }
   ],
   "source": [
    "length=100\n",
    "width=80\n",
    "rectangle_area=length*width\n",
    "print(rectangle_area)"
   ]
  },
  {
   "cell_type": "markdown",
   "id": "5069ef03",
   "metadata": {},
   "source": [
    "#### Q11. Write a Python program that converts temperatures from Celsius to Fahrenheit. Use the formula (Celsius * 9/5) + 32 to perform the conversion."
   ]
  },
  {
   "cell_type": "code",
   "execution_count": 33,
   "id": "1ddec265",
   "metadata": {},
   "outputs": [],
   "source": [
    "def celsius_to_fahrenheit(celsius):\n",
    "    fahrenheit = (celsius * 9/5) + 32\n",
    "    print(fahrenheit)"
   ]
  }
 ],
 "metadata": {
  "kernelspec": {
   "display_name": "Python 3 (ipykernel)",
   "language": "python",
   "name": "python3"
  },
  "language_info": {
   "codemirror_mode": {
    "name": "ipython",
    "version": 3
   },
   "file_extension": ".py",
   "mimetype": "text/x-python",
   "name": "python",
   "nbconvert_exporter": "python",
   "pygments_lexer": "ipython3",
   "version": "3.11.5"
  }
 },
 "nbformat": 4,
 "nbformat_minor": 5
}
